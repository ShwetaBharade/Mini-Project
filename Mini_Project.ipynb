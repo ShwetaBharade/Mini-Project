{
  "nbformat": 4,
  "nbformat_minor": 0,
  "metadata": {
    "accelerator": "GPU",
    "colab": {
      "name": "Mini Project.ipynb",
      "provenance": [],
      "collapsed_sections": [],
      "mount_file_id": "1ITRVq40fdRg6LKxvLAbfaHeDVVnbfwjP",
      "authorship_tag": "ABX9TyMLY5tVP/2qOsWiTTHErnWN",
      "include_colab_link": true
    },
    "kernelspec": {
      "display_name": "Python 3",
      "name": "python3"
    },
    "language_info": {
      "name": "python"
    }
  },
  "cells": [
    {
      "cell_type": "markdown",
      "metadata": {
        "id": "view-in-github",
        "colab_type": "text"
      },
      "source": [
        "<a href=\"https://colab.research.google.com/github/ShwetaBharade/Mini-Project/blob/main/Mini_Project.ipynb\" target=\"_parent\"><img src=\"https://colab.research.google.com/assets/colab-badge.svg\" alt=\"Open In Colab\"/></a>"
      ]
    },
    {
      "cell_type": "code",
      "metadata": {
        "id": "wIS5BwGUr4Hi"
      },
      "source": [
        "# Data : Images"
      ],
      "execution_count": null,
      "outputs": []
    },
    {
      "cell_type": "code",
      "metadata": {
        "id": "67gmmJegAEQ6",
        "colab": {
          "base_uri": "https://localhost:8080/"
        },
        "outputId": "70958db3-00f1-450c-a8fa-44ca155df3ee"
      },
      "source": [
        "!pip install bing-image-downloader\n"
      ],
      "execution_count": 42,
      "outputs": [
        {
          "output_type": "stream",
          "text": [
            "Requirement already satisfied: bing-image-downloader in /usr/local/lib/python3.7/dist-packages (1.1.1)\n"
          ],
          "name": "stdout"
        }
      ]
    },
    {
      "cell_type": "code",
      "metadata": {
        "id": "EjiW2wfWAdCK",
        "colab": {
          "base_uri": "https://localhost:8080/"
        },
        "outputId": "b6e06dc8-73f6-437d-a8c9-e3622706488b"
      },
      "source": [
        "!mkdir images"
      ],
      "execution_count": 43,
      "outputs": [
        {
          "output_type": "stream",
          "text": [
            "mkdir: cannot create directory ‘images’: File exists\n"
          ],
          "name": "stdout"
        }
      ]
    },
    {
      "cell_type": "code",
      "metadata": {
        "id": "NX4kfyf2AsCb",
        "colab": {
          "base_uri": "https://localhost:8080/"
        },
        "outputId": "3e4916ed-b64a-4038-a3d2-f74ea441de1b"
      },
      "source": [
        "from bing_image_downloader import downloader\n",
        "downloader.download(\"mushroom\",limit=30,output_dir='images',adult_filter_off=True)"
      ],
      "execution_count": 44,
      "outputs": [
        {
          "output_type": "stream",
          "text": [
            "[%] Downloading Images to /content/images/mushroom\n",
            "\n",
            "\n",
            "[!!]Indexing page: 1\n",
            "\n",
            "[%] Indexed 30 Images on Page 1.\n",
            "\n",
            "===============================================\n",
            "\n",
            "[%] Downloading Image #1 from https://i.pinimg.com/originals/1e/da/e6/1edae65ac2b0cd5cc721618f46539f7c.png\n",
            "[%] File Downloaded !\n",
            "\n",
            "[%] Downloading Image #2 from https://i.pinimg.com/originals/c0/4d/fa/c04dfaddfe4931a75b09253e521091d1.png\n",
            "[%] File Downloaded !\n",
            "\n",
            "[%] Downloading Image #3 from https://www.mushroomhuntress.com/wp-content/uploads/2020/05/true-morel-vs-false-morel-.jpg\n",
            "[%] File Downloaded !\n",
            "\n",
            "[%] Downloading Image #4 from https://i.pinimg.com/originals/d2/dd/79/d2dd7926c92422566f40d7ed34e7d4ad.png\n",
            "[%] File Downloaded !\n",
            "\n",
            "[%] Downloading Image #5 from https://thumbs.dreamstime.com/z/fresh-morchella-esculenta-commonly-known-as-common-morel-yellow-morel-true-morel-morel-mushroom-fresh-morchella-esculenta-commonly-132516235.jpg\n",
            "[%] File Downloaded !\n",
            "\n",
            "[%] Downloading Image #6 from https://mycotopia.net/uploads/monthly_04_2013/post-52222-138195782171.jpg\n",
            "[%] File Downloaded !\n",
            "\n",
            "[%] Downloading Image #7 from http://lh3.googleusercontent.com/Mg1qOefZwKgVqmm2w7SHHUB3INO2udvj2Y3lHxiLhsV0rEhMeyoU_4snFQXtNep99CmmfgsEEPWZQW_kCDdPFA=s600\n",
            "[%] File Downloaded !\n",
            "\n",
            "[%] Downloading Image #8 from https://i.etsystatic.com/18376711/r/il/347dca/1659000290/il_794xN.1659000290_mjnm.jpg\n",
            "[Error]Invalid image, not saving https://i.etsystatic.com/18376711/r/il/347dca/1659000290/il_794xN.1659000290_mjnm.jpg\n",
            "\n",
            "[!] Issue getting: https://i.etsystatic.com/18376711/r/il/347dca/1659000290/il_794xN.1659000290_mjnm.jpg\n",
            "[!] Error:: Invalid image, not saving https://i.etsystatic.com/18376711/r/il/347dca/1659000290/il_794xN.1659000290_mjnm.jpg\n",
            "\n",
            "[%] Downloading Image #8 from https://i.pinimg.com/originals/3b/80/2a/3b802a09582624f7130220bffc3d3769.png\n",
            "[%] File Downloaded !\n",
            "\n",
            "[%] Downloading Image #9 from https://www.mushroomhuntress.com/wp-content/uploads/2020/05/Morel-Mushroom-foraging.jpg\n",
            "[%] File Downloaded !\n",
            "\n",
            "[%] Downloading Image #10 from https://i.pinimg.com/736x/c3/7f/f1/c37ff1e1320b45014bd9b3d32928b91c.jpg\n",
            "[%] File Downloaded !\n",
            "\n",
            "[%] Downloading Image #11 from https://d2gg9evh47fn9z.cloudfront.net/800px_COLOURBOX15478667.jpg\n",
            "[%] File Downloaded !\n",
            "\n",
            "[%] Downloading Image #12 from https://i.pinimg.com/736x/7e/67/2f/7e672fdef36ea9d1223cd2439a2b427a.jpg\n",
            "[%] File Downloaded !\n",
            "\n",
            "[%] Downloading Image #13 from https://i.pinimg.com/originals/0e/8b/86/0e8b86904860f0edb0d26f05c223221d.png\n",
            "[%] File Downloaded !\n",
            "\n",
            "[%] Downloading Image #14 from http://lh3.googleusercontent.com/-nGTRN7Im7eRcyfxsBYpQoKmrgaRtN3dJcwT3FzI687EMNfqXEyiRCm3RwLRoT9aqu4GauNjBTIl8YnB6b_K=s600\n",
            "[%] File Downloaded !\n",
            "\n",
            "[%] Downloading Image #15 from https://lh3.googleusercontent.com/IhaRmoBFlM3UlvOjaA9XWqa0h2nJxCTwrhzKHRFZzF3MKMgqGYyKAaoznm1RK20CI6crMTsAme0LngELlzO0=s580\n",
            "[%] File Downloaded !\n",
            "\n",
            "[%] Downloading Image #16 from https://i.ytimg.com/vi/NSpHiDf1WbU/hqdefault.jpg\n",
            "[%] File Downloaded !\n",
            "\n",
            "[%] Downloading Image #17 from https://guide.sportsmansguide.com/wp-content/uploads/morel-mushrooms.jpg\n",
            "[%] File Downloaded !\n",
            "\n",
            "[%] Downloading Image #18 from https://learn.freshcap.com/wp-content/uploads/2019/04/TRUE-MORELS.jpg\n",
            "[%] File Downloaded !\n",
            "\n",
            "[%] Downloading Image #19 from https://www.wideopenspaces.com/wp-content/uploads/2017/03/real-and-fake-morel-mushrooms.jpg\n",
            "[%] File Downloaded !\n",
            "\n",
            "[%] Downloading Image #20 from https://i.pinimg.com/originals/4a/21/0a/4a210a1bc4f9886d5f1b3eb0aa3371ad.png\n",
            "[%] File Downloaded !\n",
            "\n",
            "[%] Downloading Image #21 from https://upload.wikimedia.org/wikipedia/commons/7/79/Gyromitra_Colima.jpg\n",
            "[%] File Downloaded !\n",
            "\n",
            "[%] Downloading Image #22 from http://i.ebayimg.com/images/i/162339834100-0-1/s-l1000.jpg\n",
            "[%] File Downloaded !\n",
            "\n",
            "[%] Downloading Image #23 from http://leelanau.com/wp-content/uploads/2017/04/False-Morel-Mushroom.jpg\n",
            "[%] File Downloaded !\n",
            "\n",
            "[%] Downloading Image #24 from https://i.pinimg.com/originals/ef/4e/c5/ef4ec5473f2f5a7487028f4e36819ee9.png\n",
            "[%] File Downloaded !\n",
            "\n",
            "[%] Downloading Image #25 from https://i.pinimg.com/originals/05/99/2e/05992e42d5a2d91573b0ba2f4e021034.png\n",
            "[%] File Downloaded !\n",
            "\n",
            "[%] Downloading Image #26 from https://i.pinimg.com/originals/77/40/fa/7740fa90bc39c40e8a94ed33bea8f2e6.png\n",
            "[%] File Downloaded !\n",
            "\n",
            "[%] Downloading Image #27 from https://www.mushroom-appreciation.com/image-files/multiple-morels.jpg\n",
            "[%] File Downloaded !\n",
            "\n",
            "[%] Downloading Image #28 from https://i.pinimg.com/originals/ee/c5/1f/eec51fa8c5d41cf6310b4310f183f22e.png\n",
            "[%] File Downloaded !\n",
            "\n",
            "[%] Downloading Image #29 from https://thumbs.dreamstime.com/b/champignon-true-mushroom-wooden-board-champignon-true-mushroom-isolated-white-background-105857267.jpg\n",
            "[%] File Downloaded !\n",
            "\n",
            "\n",
            "\n",
            "[!!]Indexing page: 2\n",
            "\n",
            "[%] Indexed 35 Images on Page 2.\n",
            "\n",
            "===============================================\n",
            "\n",
            "[%] Downloading Image #30 from https://upload.wikimedia.org/wikipedia/commons/7/79/Gyromitra_Colima.jpg\n",
            "[%] File Downloaded !\n",
            "\n",
            "\n",
            "\n",
            "[%] Done. Downloaded 30 images.\n",
            "===============================================\n",
            "\n",
            "Please show your support here\n",
            "https://www.buymeacoffee.com/gurugaurav\n",
            "\n",
            "===============================================\n",
            "\n"
          ],
          "name": "stdout"
        }
      ]
    },
    {
      "cell_type": "code",
      "metadata": {
        "colab": {
          "base_uri": "https://localhost:8080/"
        },
        "id": "-t95AScaDNLi",
        "outputId": "cb6d761e-f830-4c11-fb0e-f23179a521fb"
      },
      "source": [
        "downloader.download(\"cricket ball\",limit=30,output_dir='images',adult_filter_off=True)"
      ],
      "execution_count": 45,
      "outputs": [
        {
          "output_type": "stream",
          "text": [
            "[%] Downloading Images to /content/images/cricket ball\n",
            "\n",
            "\n",
            "[!!]Indexing page: 1\n",
            "\n",
            "[%] Indexed 30 Images on Page 1.\n",
            "\n",
            "===============================================\n",
            "\n",
            "[%] Downloading Image #1 from https://n1.sdlcdn.com/imgs/a/x/p/SS-True-Test-Cricket-Ball-SDL133148022-1-b71cd.jpg\n",
            "[%] File Downloaded !\n",
            "\n",
            "[%] Downloading Image #2 from https://www.sportsuncle.com/image/cache/catalog/images/ss/true-test-1024x1024.jpg\n",
            "[!] Issue getting: https://www.sportsuncle.com/image/cache/catalog/images/ss/true-test-1024x1024.jpg\n",
            "[!] Error:: HTTP Error 404: Not Found\n",
            "[%] Downloading Image #2 from https://www.sports91.com/wp-content/uploads/2019/04/5bbaf19632ed6dfeb55e5204.jpg\n",
            "[%] File Downloaded !\n",
            "\n",
            "[%] Downloading Image #3 from https://www.khelmart.com/Cricket/zoomer_Image/SS_CB_000071_large.jpg\n",
            "[%] File Downloaded !\n",
            "\n",
            "[%] Downloading Image #4 from https://n2.sdlcdn.com/imgs/a/r/b/Sf-True-Test-Cricket-Ball-SDL750499451-1-346c7.jpg\n",
            "[%] File Downloaded !\n",
            "\n",
            "[%] Downloading Image #5 from https://www.onlineshoppingsports.com/uploadImages/oldimg_2018_09_23_014135.jpg\n",
            "[%] File Downloaded !\n",
            "\n",
            "[%] Downloading Image #6 from https://www.khelmart.com/Cricket/zoomer_Image/SS_CB_000069_large.jpg\n",
            "[%] File Downloaded !\n",
            "\n",
            "[%] Downloading Image #7 from https://mysports.lk/wp-content/uploads/2020/05/true-test-ball-SF-sl.jpg\n",
            "[%] File Downloaded !\n",
            "\n",
            "[%] Downloading Image #8 from https://n3.sdlcdn.com/imgs/h/w/i/SG-CRICKET-BALL-SDL111243472-1-613bf.jpeg\n",
            "[%] File Downloaded !\n",
            "\n",
            "[%] Downloading Image #9 from https://i.ebayimg.com/images/g/BckAAOSwBPZfpV3n/s-l300.jpg\n",
            "[%] File Downloaded !\n",
            "\n",
            "[%] Downloading Image #10 from https://www.sportcart.in/products/2020/376/truetestleatherball2.jpg\n",
            "[%] File Downloaded !\n",
            "\n",
            "[%] Downloading Image #11 from https://images-na.ssl-images-amazon.com/images/I/51rfF0edQoL.__AC_SX300_QL70_ML2_.jpg\n",
            "[%] File Downloaded !\n",
            "\n",
            "[%] Downloading Image #12 from https://storage.sg.content-cdn.io/cdn-cgi/image/width=780,height=780,quality=75,format=auto/in-resources/b368029c-a4dd-448a-a888-58348cb1b144/Images/ProductImages/Source/SSBLTrueTest_L1.jpg\n",
            "[%] File Downloaded !\n",
            "\n",
            "[%] Downloading Image #13 from https://www.khelmart.com/Cricket/zoomer_Image/SS_CB_000076_large.jpg\n",
            "[%] File Downloaded !\n",
            "\n",
            "[%] Downloading Image #14 from https://www.khelmart.com/Cricket/zoomer_Image/SF_CB_000048_R_large.jpg\n",
            "[%] File Downloaded !\n",
            "\n",
            "[%] Downloading Image #15 from https://n2.sdlcdn.com/imgs/h/s/l/SG-Bouncer-Leather-Cricket-Ball-SDL486984478-1-fae32.jpg\n",
            "[%] File Downloaded !\n",
            "\n",
            "[%] Downloading Image #16 from https://n3.sdlcdn.com/imgs/f/u/k/cricket-ball-in-leather-SDL520298521-1-a195f.jpeg\n",
            "[%] File Downloaded !\n",
            "\n",
            "[%] Downloading Image #17 from https://n1.sdlcdn.com/imgs/h/s/r/JTM-english-leather-cricket-ball-SDL154151662-1-93ec0.jpg\n",
            "[%] File Downloaded !\n",
            "\n",
            "[%] Downloading Image #18 from https://4.imimg.com/data4/CU/WE/MY-4931499/12801433_1218167254878172_3271926125625842053_n-500x500.jpg\n",
            "[%] File Downloaded !\n",
            "\n",
            "[%] Downloading Image #19 from https://n2.sdlcdn.com/imgs/h/w/i/SG-CRICKET-BALL-SDL111243472-3-904b6.jpeg\n",
            "[%] File Downloaded !\n",
            "\n",
            "[%] Downloading Image #20 from https://n3.sdlcdn.com/imgs/i/r/l/SG-Seamer-Leather-Cricket-Ball-SDL569849734-1-dd98d.jpeg\n",
            "[%] File Downloaded !\n",
            "\n",
            "[%] Downloading Image #21 from https://www.bigvalueshop.com/wp-content/uploads/2019/09/SS-Ball-True-Test.jpeg\n",
            "[%] File Downloaded !\n",
            "\n",
            "[%] Downloading Image #22 from https://n1.sdlcdn.com/imgs/j/m/a/S4C-EM-Seam-Training-Cricket-SDL306514719-1-fc9a1.jpeg\n",
            "[%] File Downloaded !\n",
            "\n",
            "[%] Downloading Image #23 from https://www.sportsuncle.com/image/cache/catalog/images/sf/truetest2-500x500.jpg\n",
            "[%] File Downloaded !\n",
            "\n",
            "[%] Downloading Image #24 from http://khelmart.com/Cricket/zoomer_Image/SF_CB_000079_large.jpg\n",
            "[%] File Downloaded !\n",
            "\n",
            "[%] Downloading Image #25 from https://4.imimg.com/data4/SS/HH/MY-2100883/true-test-250x250.jpg\n",
            "[%] File Downloaded !\n",
            "\n",
            "[%] Downloading Image #26 from https://i.ebayimg.com/images/g/ShkAAOSwXKRdX~Uq/s-l300.jpg\n",
            "[%] File Downloaded !\n",
            "\n",
            "[%] Downloading Image #27 from https://n4.sdlcdn.com/imgs/i/g/l/Cashwin-Cricket-leather-Ball-SDL681618348-2-a0d82.jpeg\n",
            "[%] File Downloaded !\n",
            "\n",
            "[%] Downloading Image #28 from https://n3.sdlcdn.com/imgs/i/z/e/JTM-cricket-leather-ball-SDL236926717-1-e189c.jpg\n",
            "[%] File Downloaded !\n",
            "\n",
            "[%] Downloading Image #29 from https://n3.sdlcdn.com/imgs/e/z/6/Avats-New-Cricket-Ball-Set-SDL124249792-1-9e8ea.jpg\n",
            "[%] File Downloaded !\n",
            "\n",
            "\n",
            "\n",
            "[!!]Indexing page: 2\n",
            "\n",
            "[%] Indexed 35 Images on Page 2.\n",
            "\n",
            "===============================================\n",
            "\n",
            "[%] Downloading Image #30 from https://n1.sdlcdn.com/imgs/a/x/p/SS-True-Test-Cricket-Ball-SDL133148022-1-b71cd.jpg\n",
            "[%] File Downloaded !\n",
            "\n",
            "\n",
            "\n",
            "[%] Done. Downloaded 30 images.\n",
            "===============================================\n",
            "\n",
            "Please show your support here\n",
            "https://www.buymeacoffee.com/gurugaurav\n",
            "\n",
            "===============================================\n",
            "\n"
          ],
          "name": "stdout"
        }
      ]
    },
    {
      "cell_type": "code",
      "metadata": {
        "colab": {
          "base_uri": "https://localhost:8080/"
        },
        "id": "7MIyZMnmxzRT",
        "outputId": "633238b5-3d58-4554-9003-b233f1595d2c"
      },
      "source": [
        "downloader.download(\"bicycle\",limit=30,output_dir='images',adult_filter_off=True)"
      ],
      "execution_count": 46,
      "outputs": [
        {
          "output_type": "stream",
          "text": [
            "[%] Downloading Images to /content/images/bicycle\n",
            "\n",
            "\n",
            "[!!]Indexing page: 1\n",
            "\n",
            "[%] Indexed 30 Images on Page 1.\n",
            "\n",
            "===============================================\n",
            "\n",
            "[%] Downloading Image #1 from http://adulttricyclereview.com/wp-content/uploads/2018/02/CarryAllSideWeb-1.jpg\n",
            "[%] File Downloaded !\n",
            "\n",
            "[%] Downloading Image #2 from https://evbliss.com/wp-content/uploads/2020/06/RadCIty-4-Electric-Bicycle-1068x712.jpg\n",
            "[%] File Downloaded !\n",
            "\n",
            "[%] Downloading Image #3 from http://adulttricyclereview.com/wp-content/uploads/2017/01/TrueJourneySide.jpg\n",
            "[%] File Downloaded !\n",
            "\n",
            "[%] Downloading Image #4 from https://files.bikeindex.org/uploads/Pu/121865/IMG_0607.JPG\n",
            "[%] File Downloaded !\n",
            "\n",
            "[%] Downloading Image #5 from https://i.pinimg.com/originals/c8/d3/31/c8d33122330dd50e296301fc438bf546.jpg\n",
            "[%] File Downloaded !\n",
            "\n",
            "[%] Downloading Image #6 from https://bmxmuseum.com/image/webcoprofile_blowup.jpg\n",
            "[%] File Downloaded !\n",
            "\n",
            "[%] Downloading Image #7 from https://i.pinimg.com/originals/03/46/fe/0346fe99b2ad8a51fb3a2182318d833d.jpg\n",
            "[%] File Downloaded !\n",
            "\n",
            "[%] Downloading Image #8 from https://bmxmuseum.com/image/20120131_104228_811_blowup.jpg\n",
            "[%] File Downloaded !\n",
            "\n",
            "[%] Downloading Image #9 from https://i.pinimg.com/originals/58/4d/ce/584dce4d0e05bf96b1308448694e40a8.jpg\n",
            "[%] File Downloaded !\n",
            "\n",
            "[%] Downloading Image #10 from https://www.urbanscooters.com/image?filename=Products/Adult Tricycles/True_FoldandGo_3Spd-2T.jpg&amp;width=580&amp;height=0\n",
            "[!] Issue getting: https://www.urbanscooters.com/image?filename=Products/Adult Tricycles/True_FoldandGo_3Spd-2T.jpg&amp;width=580&amp;height=0\n",
            "[!] Error:: URL can't contain control characters. '/image?filename=Products/Adult Tricycles/True_FoldandGo_3Spd-2T.jpg&amp;width=580&amp;height=0' (found at least ' ')\n",
            "[%] Downloading Image #10 from https://i.pinimg.com/originals/f2/03/c0/f203c0ba9aec2aad0f17c6346acd332a.jpg\n",
            "[%] File Downloaded !\n",
            "\n",
            "[%] Downloading Image #11 from https://www.fitnessgallery.com/wp-content/uploads/2017/07/TRUE-Fitness_CS200-upright-bike_FitnessGallery.png\n",
            "[%] File Downloaded !\n",
            "\n",
            "[%] Downloading Image #12 from https://c1.staticflickr.com/3/2292/2223959139_b62f512f70_b.jpg\n",
            "[%] File Downloaded !\n",
            "\n",
            "[%] Downloading Image #13 from http://static.shoplightspeed.com/shops/607954/files/002242061/pinion-fatbike.jpg\n",
            "[%] File Downloaded !\n",
            "\n",
            "[%] Downloading Image #14 from https://n4.sdlcdn.com/imgs/g/s/r/Cosmic-FLASH-MTB-BICYCLE-21-SDL736797830-2-c1417.jpeg\n",
            "[%] File Downloaded !\n",
            "\n",
            "[%] Downloading Image #15 from http://bmxmuseum.com/image/dsc_0026_copy7_blowup.jpg\n",
            "[%] File Downloaded !\n",
            "\n",
            "[%] Downloading Image #16 from http://www.truenorthcycles.com/wp-content/gallery/customer/green-cross-1.jpg\n",
            "[%] File Downloaded !\n",
            "\n",
            "[%] Downloading Image #17 from https://i.ytimg.com/vi/omHhXNKOyv4/maxresdefault.jpg\n",
            "[%] File Downloaded !\n",
            "\n",
            "[%] Downloading Image #18 from https://www.prlog.org/11944368-true-bicycles-electric-bikes.jpg\n",
            "[%] File Downloaded !\n",
            "\n",
            "[%] Downloading Image #19 from https://i.pinimg.com/originals/25/33/1d/25331dd91b9bf116edc1d9bd5c7de771.jpg\n",
            "[%] File Downloaded !\n",
            "\n",
            "[%] Downloading Image #20 from http://cdn.shoplightspeed.com/shops/607954/files/6857885/true-north-custom-bicycle.jpg\n",
            "[%] File Downloaded !\n",
            "\n",
            "[%] Downloading Image #21 from https://i.pinimg.com/originals/39/34/6f/39346fa930a198fd1dc2c17f8eb26a33.jpg\n",
            "[%] File Downloaded !\n",
            "\n",
            "[%] Downloading Image #22 from https://i.pinimg.com/originals/4b/63/54/4b63545aae3d6e8deda29d3414d780c4.jpg\n",
            "[%] File Downloaded !\n",
            "\n",
            "[%] Downloading Image #23 from http://adulttricyclereview.com/wp-content/uploads/2013/09/explorerelectricside.jpg\n",
            "[%] File Downloaded !\n",
            "\n",
            "[%] Downloading Image #24 from https://i.pinimg.com/originals/2e/69/66/2e6966561d58e77905bc6d65e03c1149.jpg\n",
            "[%] File Downloaded !\n",
            "\n",
            "[%] Downloading Image #25 from http://www.truenorthcycles.com/wp-content/gallery/hugh-blog-updates/14469269097_0e47fe6de2_k.jpg\n",
            "[%] File Downloaded !\n",
            "\n",
            "[%] Downloading Image #26 from https://i.ebayimg.com/images/g/MAMAAOSwO3pesyJW/s-l400.jpg\n",
            "[%] File Downloaded !\n",
            "\n",
            "[%] Downloading Image #27 from https://i.pinimg.com/originals/13/f5/8f/13f58fee5fdfe77c12007362cb1e4ead.jpg\n",
            "[%] File Downloaded !\n",
            "\n",
            "[%] Downloading Image #28 from http://www.nsbikes.com/2014/images/slider/s2-698-s.jpg\n",
            "[%] File Downloaded !\n",
            "\n",
            "[%] Downloading Image #29 from https://i.pinimg.com/originals/76/9e/3b/769e3b1c8e09b8cbcc6e46ab46649e2c.jpg\n",
            "[%] File Downloaded !\n",
            "\n",
            "\n",
            "\n",
            "[!!]Indexing page: 2\n",
            "\n",
            "[%] Indexed 35 Images on Page 2.\n",
            "\n",
            "===============================================\n",
            "\n",
            "[%] Downloading Image #30 from http://adulttricyclereview.com/wp-content/uploads/2018/02/CarryAllSideWeb-1.jpg\n",
            "[%] File Downloaded !\n",
            "\n",
            "\n",
            "\n",
            "[%] Done. Downloaded 30 images.\n",
            "===============================================\n",
            "\n",
            "Please show your support here\n",
            "https://www.buymeacoffee.com/gurugaurav\n",
            "\n",
            "===============================================\n",
            "\n"
          ],
          "name": "stdout"
        }
      ]
    },
    {
      "cell_type": "code",
      "metadata": {
        "colab": {
          "base_uri": "https://localhost:8080/"
        },
        "id": "rNpNRx_88-7h",
        "outputId": "b3302341-671d-408f-d273-37004ef3cd32"
      },
      "source": [
        "import numpy as np\n",
        "a = np.array([[1,2,3,4,5],\n",
        "             [6,7,8,9,0]])\n",
        "a.ndim"
      ],
      "execution_count": 47,
      "outputs": [
        {
          "output_type": "execute_result",
          "data": {
            "text/plain": [
              "2"
            ]
          },
          "metadata": {
            "tags": []
          },
          "execution_count": 47
        }
      ]
    },
    {
      "cell_type": "code",
      "metadata": {
        "colab": {
          "base_uri": "https://localhost:8080/"
        },
        "id": "Ny8V2_li9jIu",
        "outputId": "3b41e037-9897-422d-d9b3-32f0754bad0b"
      },
      "source": [
        "# Converting Matrix to Vector\n",
        "a.flatten()"
      ],
      "execution_count": 48,
      "outputs": [
        {
          "output_type": "execute_result",
          "data": {
            "text/plain": [
              "array([1, 2, 3, 4, 5, 6, 7, 8, 9, 0])"
            ]
          },
          "metadata": {
            "tags": []
          },
          "execution_count": 48
        }
      ]
    },
    {
      "cell_type": "code",
      "metadata": {
        "id": "PVvBaKKy0iUy"
      },
      "source": [
        "# Preprocessing\n",
        "#1. Resize\n",
        "#2. Flatten\n",
        "\n",
        "import os\n",
        "import matplotlib.pyplot as plt\n",
        "import numpy as np\n",
        "from skimage.io import imread\n",
        "from skimage.transform import resize\n",
        "\n",
        "target = []\n",
        "images = []\n",
        "flat_data = []\n",
        "\n",
        "DATADIR = '/content/images'\n",
        "CATEGORIES = ['mushroom','cricket ball','bicycle']\n",
        "\n",
        "for category in CATEGORIES:\n",
        "  class_num = CATEGORIES.index(category) # label encoding the values\n",
        "  path = os.path.join(DATADIR,category)  # create path to use all the images\n",
        "  for img in os.listdir(path):\n",
        "    img_array = imread(os.path.join(path,img))\n",
        "    #print(img_array.shape)\n",
        "    #plt.imshow(img_array)\n",
        "    img_resized = resize(img_array,(150,150,3)) # Normalizes the value from 0 to 1\n",
        "    flat_data.append(img_resized.flatten())\n",
        "    images.append(img_resized)\n",
        "    target.append(class_num)\n",
        "\n",
        "flat_data = np.array(flat_data)\n",
        "target = np.array(target)\n",
        "images = np.array(images)\n",
        "\n",
        "\n"
      ],
      "execution_count": 49,
      "outputs": []
    },
    {
      "cell_type": "code",
      "metadata": {
        "colab": {
          "base_uri": "https://localhost:8080/"
        },
        "id": "YTVBGBqQE6IY",
        "outputId": "3e733536-0500-4205-8fc7-4862ddae4ba6"
      },
      "source": [
        "len(flat_data[0])"
      ],
      "execution_count": 50,
      "outputs": [
        {
          "output_type": "execute_result",
          "data": {
            "text/plain": [
              "67500"
            ]
          },
          "metadata": {
            "tags": []
          },
          "execution_count": 50
        }
      ]
    },
    {
      "cell_type": "code",
      "metadata": {
        "colab": {
          "base_uri": "https://localhost:8080/"
        },
        "id": "Gb35VfqOFhvR",
        "outputId": "ef072d3f-6f0b-4c51-fe53-f88cec2e5507"
      },
      "source": [
        "150*150*3"
      ],
      "execution_count": 51,
      "outputs": [
        {
          "output_type": "execute_result",
          "data": {
            "text/plain": [
              "67500"
            ]
          },
          "metadata": {
            "tags": []
          },
          "execution_count": 51
        }
      ]
    },
    {
      "cell_type": "code",
      "metadata": {
        "colab": {
          "base_uri": "https://localhost:8080/"
        },
        "id": "DUbW2qdVFsBG",
        "outputId": "6fdfb931-aaa6-4617-eca6-5457ddfe168b"
      },
      "source": [
        "target"
      ],
      "execution_count": 52,
      "outputs": [
        {
          "output_type": "execute_result",
          "data": {
            "text/plain": [
              "array([0, 0, 0, 0, 0, 0, 0, 0, 0, 0, 0, 0, 0, 0, 0, 0, 0, 0, 0, 0, 0, 0,\n",
              "       0, 0, 0, 0, 0, 0, 0, 0, 0, 0, 0, 0, 0, 0, 0, 0, 0, 0, 0, 0, 0, 0,\n",
              "       0, 0, 0, 1, 1, 1, 1, 1, 1, 1, 1, 1, 1, 1, 1, 1, 1, 1, 1, 1, 1, 1,\n",
              "       1, 1, 1, 1, 1, 1, 1, 1, 1, 1, 1, 2, 2, 2, 2, 2, 2, 2, 2, 2, 2, 2,\n",
              "       2, 2, 2, 2, 2, 2, 2, 2, 2, 2, 2, 2, 2, 2, 2, 2, 2, 2, 2])"
            ]
          },
          "metadata": {
            "tags": []
          },
          "execution_count": 52
        }
      ]
    },
    {
      "cell_type": "code",
      "metadata": {
        "colab": {
          "base_uri": "https://localhost:8080/",
          "height": 282
        },
        "id": "ZHNs_y9TFwEV",
        "outputId": "e9f40de7-f211-4ed5-cffa-6f131643d65a"
      },
      "source": [
        "unique,count = np.unique(target,return_counts=True)\n",
        "plt.bar(CATEGORIES,count)"
      ],
      "execution_count": 53,
      "outputs": [
        {
          "output_type": "execute_result",
          "data": {
            "text/plain": [
              "<BarContainer object of 3 artists>"
            ]
          },
          "metadata": {
            "tags": []
          },
          "execution_count": 53
        },
        {
          "output_type": "display_data",
          "data": {
            "image/png": "[encoded data removed]",
            "text/plain": [
              "<Figure size 432x288 with 1 Axes>"
            ]
          },
          "metadata": {
            "tags": [],
            "needs_background": "light"
          }
        }
      ]
    },
    {
      "cell_type": "code",
      "metadata": {
        "id": "AitjZbzpGcLY"
      },
      "source": [
        "# Split Data into training and testing\n",
        "from sklearn.model_selection import train_test_split\n",
        "x_train,x_test,y_train,y_test = train_test_split(flat_data,target,test_size=0.3,random_state=109)"
      ],
      "execution_count": 54,
      "outputs": []
    },
    {
      "cell_type": "code",
      "metadata": {
        "colab": {
          "base_uri": "https://localhost:8080/"
        },
        "id": "YVLjIgz8HkAX",
        "outputId": "7eb73005-be5a-4890-a800-0c61d54292d3"
      },
      "source": [
        "from sklearn.model_selection import GridSearchCV\n",
        "from sklearn import svm\n",
        "\n",
        "\n",
        "param_grid = [\n",
        "              {'C':[1,10,100,1000],'kernel':['linear']},\n",
        "              {'C':[1,10,100,1000],'gamma':[0.001,0.0001],'kernel':['rbf']}\n",
        "]\n",
        "\n",
        "svc = svm.SVC(probability=True)\n",
        "clf = GridSearchCV(svc,param_grid)\n",
        "clf.fit(x_train,y_train)"
      ],
      "execution_count": 55,
      "outputs": [
        {
          "output_type": "execute_result",
          "data": {
            "text/plain": [
              "GridSearchCV(cv=None, error_score=nan,\n",
              "             estimator=SVC(C=1.0, break_ties=False, cache_size=200,\n",
              "                           class_weight=None, coef0=0.0,\n",
              "                           decision_function_shape='ovr', degree=3,\n",
              "                           gamma='scale', kernel='rbf', max_iter=-1,\n",
              "                           probability=True, random_state=None, shrinking=True,\n",
              "                           tol=0.001, verbose=False),\n",
              "             iid='deprecated', n_jobs=None,\n",
              "             param_grid=[{'C': [1, 10, 100, 1000], 'kernel': ['linear']},\n",
              "                         {'C': [1, 10, 100, 1000], 'gamma': [0.001, 0.0001],\n",
              "                          'kernel': ['rbf']}],\n",
              "             pre_dispatch='2*n_jobs', refit=True, return_train_score=False,\n",
              "             scoring=None, verbose=0)"
            ]
          },
          "metadata": {
            "tags": []
          },
          "execution_count": 55
        }
      ]
    },
    {
      "cell_type": "code",
      "metadata": {
        "colab": {
          "base_uri": "https://localhost:8080/"
        },
        "id": "y4HlwzquKx_m",
        "outputId": "bf8565da-e2e7-498f-e3b0-a1e9b82a32c5"
      },
      "source": [
        "y_pred = clf.predict(x_test)\n",
        "y_pred\n"
      ],
      "execution_count": 56,
      "outputs": [
        {
          "output_type": "execute_result",
          "data": {
            "text/plain": [
              "array([1, 0, 1, 1, 0, 0, 2, 1, 0, 1, 1, 0, 2, 0, 2, 2, 0, 0, 0, 2, 1, 1,\n",
              "       2, 0, 1, 0, 0, 0, 2, 2, 0, 0, 1])"
            ]
          },
          "metadata": {
            "tags": []
          },
          "execution_count": 56
        }
      ]
    },
    {
      "cell_type": "code",
      "metadata": {
        "colab": {
          "base_uri": "https://localhost:8080/"
        },
        "id": "isZXQBhbOzrI",
        "outputId": "75504be3-cc12-49c2-c853-1bd0821dbf3e"
      },
      "source": [
        "y_test"
      ],
      "execution_count": 57,
      "outputs": [
        {
          "output_type": "execute_result",
          "data": {
            "text/plain": [
              "array([1, 0, 1, 1, 0, 2, 2, 1, 2, 0, 1, 0, 2, 0, 2, 2, 2, 0, 0, 2, 1, 0,\n",
              "       2, 0, 1, 0, 0, 0, 2, 2, 0, 0, 1])"
            ]
          },
          "metadata": {
            "tags": []
          },
          "execution_count": 57
        }
      ]
    },
    {
      "cell_type": "code",
      "metadata": {
        "id": "2gIlDZV8O3kb"
      },
      "source": [
        "from sklearn.metrics import accuracy_score,confusion_matrix"
      ],
      "execution_count": 58,
      "outputs": []
    },
    {
      "cell_type": "code",
      "metadata": {
        "colab": {
          "base_uri": "https://localhost:8080/"
        },
        "id": "RZL6HTwPPCsd",
        "outputId": "50d1a47b-7557-4ac3-ef85-ac4ff962737c"
      },
      "source": [
        "accuracy_score(y_pred,y_test)"
      ],
      "execution_count": 59,
      "outputs": [
        {
          "output_type": "execute_result",
          "data": {
            "text/plain": [
              "0.8484848484848485"
            ]
          },
          "metadata": {
            "tags": []
          },
          "execution_count": 59
        }
      ]
    },
    {
      "cell_type": "code",
      "metadata": {
        "colab": {
          "base_uri": "https://localhost:8080/"
        },
        "id": "-ndJZ4JRPNjR",
        "outputId": "fbfaf7fd-5f0e-47a8-c7d7-a84b6377d147"
      },
      "source": [
        "confusion_matrix(y_pred,y_test)"
      ],
      "execution_count": 60,
      "outputs": [
        {
          "output_type": "execute_result",
          "data": {
            "text/plain": [
              "array([[12,  0,  3],\n",
              "       [ 2,  8,  0],\n",
              "       [ 0,  0,  8]])"
            ]
          },
          "metadata": {
            "tags": []
          },
          "execution_count": 60
        }
      ]
    },
    {
      "cell_type": "code",
      "metadata": {
        "id": "JHu5tpoYPr0A"
      },
      "source": [
        "# Save the model using Pickel library\n",
        "import pickle\n",
        "pickle.dump(clf,open('img_model.p','wb'))"
      ],
      "execution_count": 21,
      "outputs": []
    },
    {
      "cell_type": "code",
      "metadata": {
        "id": "s_uX3oMfQiwV"
      },
      "source": [
        "model = pickle.load(open('img_model.p','rb'))"
      ],
      "execution_count": 22,
      "outputs": []
    },
    {
      "cell_type": "code",
      "metadata": {
        "colab": {
          "base_uri": "https://localhost:8080/",
          "height": 320
        },
        "id": "wOGBj9LDQ3to",
        "outputId": "2c15224b-c464-4f7f-cc0d-b163ae13f2d5"
      },
      "source": [
        "# Testing a brand new image\n",
        "flat_data = []\n",
        "url = input('Enter your URL')\n",
        "img = imread(url)\n",
        "img_resized = resize(img,(150,150,3))\n",
        "flat_data.append(img_resized.flatten())\n",
        "flat_data = np.array(flat_data)\n",
        "print(img.shape)\n",
        "plt.imshow(img_resized)\n",
        "y_out = model.predict(flat_data)\n",
        "y_out = CATEGORIES[y_out[0]]\n",
        "print(f' PREDICTED OUTPUT: {y_out} ')\n",
        "\n",
        "\n"
      ],
      "execution_count": 62,
      "outputs": [
        {
          "output_type": "stream",
          "text": [
            "Enter your URLhttps://i.pinimg.com/originals/2e/69/66/2e6966561d58e77905bc6d65e03c1149.jpg\n",
            "(889, 1335, 3)\n",
            " PREDICTED OUTPUT: bicycle \n"
          ],
          "name": "stdout"
        },
        {
          "output_type": "display_data",
          "data": {
            "image/png": "[encoded data removed]",
            "text/plain": [
              "<Figure size 432x288 with 1 Axes>"
            ]
          },
          "metadata": {
            "tags": [],
            "needs_background": "light"
          }
        }
      ]
    }
  ]
}